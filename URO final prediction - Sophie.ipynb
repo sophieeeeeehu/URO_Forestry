{
 "cells": [
  {
   "cell_type": "code",
   "execution_count": 12,
   "id": "2baf4f83-23f1-4b0f-922e-5de3e586e117",
   "metadata": {},
   "outputs": [
    {
     "name": "stderr",
     "output_type": "stream",
     "text": [
      "\u001b[1mRows: \u001b[22m\u001b[34m3240\u001b[39m \u001b[1mColumns: \u001b[22m\u001b[34m20\u001b[39m\n",
      "\u001b[36m──\u001b[39m \u001b[1mColumn specification\u001b[22m \u001b[36m────────────────────────────────────────────────────────\u001b[39m\n",
      "\u001b[1mDelimiter:\u001b[22m \",\"\n",
      "\u001b[31mchr\u001b[39m  (1): SITE\n",
      "\u001b[32mdbl\u001b[39m (19): PROV, BLOCK, TREE, S_MAT, S_MCMT, S_MAP, S_MSP, S_Latitude, S_Long...\n",
      "\n",
      "\u001b[36mℹ\u001b[39m Use `spec()` to retrieve the full column specification for this data.\n",
      "\u001b[36mℹ\u001b[39m Specify the column types or set `show_col_types = FALSE` to quiet this message.\n"
     ]
    },
    {
     "data": {
      "text/html": [
       "<table class=\"dataframe\">\n",
       "<caption>A tibble: 3 × 4</caption>\n",
       "<thead>\n",
       "\t<tr><th scope=col>PROV</th><th scope=col>P_Latitude</th><th scope=col>P_Longitude</th><th scope=col>P_Elevation</th></tr>\n",
       "\t<tr><th scope=col>&lt;dbl&gt;</th><th scope=col>&lt;dbl&gt;</th><th scope=col>&lt;dbl&gt;</th><th scope=col>&lt;dbl&gt;</th></tr>\n",
       "</thead>\n",
       "<tbody>\n",
       "\t<tr><td>40</td><td>54.69117</td><td>-127.4027</td><td>1005</td></tr>\n",
       "\t<tr><td>34</td><td>59.18291</td><td>-129.7254</td><td> 792</td></tr>\n",
       "\t<tr><td>63</td><td>50.07538</td><td>-115.0271</td><td>1280</td></tr>\n",
       "</tbody>\n",
       "</table>\n"
      ],
      "text/latex": [
       "A tibble: 3 × 4\n",
       "\\begin{tabular}{llll}\n",
       " PROV & P\\_Latitude & P\\_Longitude & P\\_Elevation\\\\\n",
       " <dbl> & <dbl> & <dbl> & <dbl>\\\\\n",
       "\\hline\n",
       "\t 40 & 54.69117 & -127.4027 & 1005\\\\\n",
       "\t 34 & 59.18291 & -129.7254 &  792\\\\\n",
       "\t 63 & 50.07538 & -115.0271 & 1280\\\\\n",
       "\\end{tabular}\n"
      ],
      "text/markdown": [
       "\n",
       "A tibble: 3 × 4\n",
       "\n",
       "| PROV &lt;dbl&gt; | P_Latitude &lt;dbl&gt; | P_Longitude &lt;dbl&gt; | P_Elevation &lt;dbl&gt; |\n",
       "|---|---|---|---|\n",
       "| 40 | 54.69117 | -127.4027 | 1005 |\n",
       "| 34 | 59.18291 | -129.7254 |  792 |\n",
       "| 63 | 50.07538 | -115.0271 | 1280 |\n",
       "\n"
      ],
      "text/plain": [
       "  PROV P_Latitude P_Longitude P_Elevation\n",
       "1 40   54.69117   -127.4027   1005       \n",
       "2 34   59.18291   -129.7254    792       \n",
       "3 63   50.07538   -115.0271   1280       "
      ]
     },
     "metadata": {},
     "output_type": "display_data"
    },
    {
     "data": {
      "text/html": [
       "<table class=\"dataframe\">\n",
       "<caption>A tibble: 6 × 27</caption>\n",
       "<thead>\n",
       "\t<tr><th scope=col>SITE</th><th scope=col>PROV</th><th scope=col>BLOCK</th><th scope=col>TREE</th><th scope=col>S_MAT</th><th scope=col>S_MCMT</th><th scope=col>S_MAP</th><th scope=col>S_MSP</th><th scope=col>S_Latitude</th><th scope=col>S_Longitude</th><th scope=col>⋯</th><th scope=col>P_Longitude</th><th scope=col>Height</th><th scope=col>live</th><th scope=col>TX_MAP</th><th scope=col>TX_MSP</th><th scope=col>TX_MCMT</th><th scope=col>TX_MAT</th><th scope=col>TX_Lat</th><th scope=col>TX_Long</th><th scope=col>TX_Elev</th></tr>\n",
       "\t<tr><th scope=col>&lt;chr&gt;</th><th scope=col>&lt;dbl&gt;</th><th scope=col>&lt;dbl&gt;</th><th scope=col>&lt;dbl&gt;</th><th scope=col>&lt;dbl&gt;</th><th scope=col>&lt;dbl&gt;</th><th scope=col>&lt;dbl&gt;</th><th scope=col>&lt;dbl&gt;</th><th scope=col>&lt;dbl&gt;</th><th scope=col>&lt;dbl&gt;</th><th scope=col>⋯</th><th scope=col>&lt;dbl&gt;</th><th scope=col>&lt;dbl&gt;</th><th scope=col>&lt;dbl&gt;</th><th scope=col>&lt;dbl&gt;</th><th scope=col>&lt;dbl&gt;</th><th scope=col>&lt;dbl&gt;</th><th scope=col>&lt;dbl&gt;</th><th scope=col>&lt;dbl&gt;</th><th scope=col>&lt;dbl&gt;</th><th scope=col>&lt;dbl&gt;</th></tr>\n",
       "</thead>\n",
       "<tbody>\n",
       "\t<tr><td>MID</td><td>1</td><td>4</td><td>6</td><td>1.9</td><td>-12.9</td><td>565</td><td>247</td><td>54.19948</td><td>-125.002</td><td>⋯</td><td>-124.057</td><td>853.3361</td><td>1</td><td>-71</td><td>-184</td><td>5.4</td><td>3.1</td><td>-4.462839</td><td>-0.9450471</td><td>-92</td></tr>\n",
       "\t<tr><td>MID</td><td>1</td><td>3</td><td>4</td><td>1.9</td><td>-12.9</td><td>565</td><td>247</td><td>54.19948</td><td>-125.002</td><td>⋯</td><td>-124.057</td><td>827.0951</td><td>1</td><td>-71</td><td>-184</td><td>5.4</td><td>3.1</td><td>-4.462839</td><td>-0.9450471</td><td>-92</td></tr>\n",
       "\t<tr><td>MID</td><td>1</td><td>3</td><td>9</td><td>1.9</td><td>-12.9</td><td>565</td><td>247</td><td>54.19948</td><td>-125.002</td><td>⋯</td><td>-124.057</td><td>804.8595</td><td>1</td><td>-71</td><td>-184</td><td>5.4</td><td>3.1</td><td>-4.462839</td><td>-0.9450471</td><td>-92</td></tr>\n",
       "\t<tr><td>MID</td><td>1</td><td>4</td><td>9</td><td>1.9</td><td>-12.9</td><td>565</td><td>247</td><td>54.19948</td><td>-125.002</td><td>⋯</td><td>-124.057</td><td>745.6832</td><td>1</td><td>-71</td><td>-184</td><td>5.4</td><td>3.1</td><td>-4.462839</td><td>-0.9450471</td><td>-92</td></tr>\n",
       "\t<tr><td>MID</td><td>1</td><td>4</td><td>5</td><td>1.9</td><td>-12.9</td><td>565</td><td>247</td><td>54.19948</td><td>-125.002</td><td>⋯</td><td>-124.057</td><td>832.1914</td><td>1</td><td>-71</td><td>-184</td><td>5.4</td><td>3.1</td><td>-4.462839</td><td>-0.9450471</td><td>-92</td></tr>\n",
       "\t<tr><td>MID</td><td>1</td><td>4</td><td>1</td><td>1.9</td><td>-12.9</td><td>565</td><td>247</td><td>54.19948</td><td>-125.002</td><td>⋯</td><td>-124.057</td><td>838.4129</td><td>1</td><td>-71</td><td>-184</td><td>5.4</td><td>3.1</td><td>-4.462839</td><td>-0.9450471</td><td>-92</td></tr>\n",
       "</tbody>\n",
       "</table>\n"
      ],
      "text/latex": [
       "A tibble: 6 × 27\n",
       "\\begin{tabular}{lllllllllllllllllllll}\n",
       " SITE & PROV & BLOCK & TREE & S\\_MAT & S\\_MCMT & S\\_MAP & S\\_MSP & S\\_Latitude & S\\_Longitude & ⋯ & P\\_Longitude & Height & live & TX\\_MAP & TX\\_MSP & TX\\_MCMT & TX\\_MAT & TX\\_Lat & TX\\_Long & TX\\_Elev\\\\\n",
       " <chr> & <dbl> & <dbl> & <dbl> & <dbl> & <dbl> & <dbl> & <dbl> & <dbl> & <dbl> & ⋯ & <dbl> & <dbl> & <dbl> & <dbl> & <dbl> & <dbl> & <dbl> & <dbl> & <dbl> & <dbl>\\\\\n",
       "\\hline\n",
       "\t MID & 1 & 4 & 6 & 1.9 & -12.9 & 565 & 247 & 54.19948 & -125.002 & ⋯ & -124.057 & 853.3361 & 1 & -71 & -184 & 5.4 & 3.1 & -4.462839 & -0.9450471 & -92\\\\\n",
       "\t MID & 1 & 3 & 4 & 1.9 & -12.9 & 565 & 247 & 54.19948 & -125.002 & ⋯ & -124.057 & 827.0951 & 1 & -71 & -184 & 5.4 & 3.1 & -4.462839 & -0.9450471 & -92\\\\\n",
       "\t MID & 1 & 3 & 9 & 1.9 & -12.9 & 565 & 247 & 54.19948 & -125.002 & ⋯ & -124.057 & 804.8595 & 1 & -71 & -184 & 5.4 & 3.1 & -4.462839 & -0.9450471 & -92\\\\\n",
       "\t MID & 1 & 4 & 9 & 1.9 & -12.9 & 565 & 247 & 54.19948 & -125.002 & ⋯ & -124.057 & 745.6832 & 1 & -71 & -184 & 5.4 & 3.1 & -4.462839 & -0.9450471 & -92\\\\\n",
       "\t MID & 1 & 4 & 5 & 1.9 & -12.9 & 565 & 247 & 54.19948 & -125.002 & ⋯ & -124.057 & 832.1914 & 1 & -71 & -184 & 5.4 & 3.1 & -4.462839 & -0.9450471 & -92\\\\\n",
       "\t MID & 1 & 4 & 1 & 1.9 & -12.9 & 565 & 247 & 54.19948 & -125.002 & ⋯ & -124.057 & 838.4129 & 1 & -71 & -184 & 5.4 & 3.1 & -4.462839 & -0.9450471 & -92\\\\\n",
       "\\end{tabular}\n"
      ],
      "text/markdown": [
       "\n",
       "A tibble: 6 × 27\n",
       "\n",
       "| SITE &lt;chr&gt; | PROV &lt;dbl&gt; | BLOCK &lt;dbl&gt; | TREE &lt;dbl&gt; | S_MAT &lt;dbl&gt; | S_MCMT &lt;dbl&gt; | S_MAP &lt;dbl&gt; | S_MSP &lt;dbl&gt; | S_Latitude &lt;dbl&gt; | S_Longitude &lt;dbl&gt; | ⋯ ⋯ | P_Longitude &lt;dbl&gt; | Height &lt;dbl&gt; | live &lt;dbl&gt; | TX_MAP &lt;dbl&gt; | TX_MSP &lt;dbl&gt; | TX_MCMT &lt;dbl&gt; | TX_MAT &lt;dbl&gt; | TX_Lat &lt;dbl&gt; | TX_Long &lt;dbl&gt; | TX_Elev &lt;dbl&gt; |\n",
       "|---|---|---|---|---|---|---|---|---|---|---|---|---|---|---|---|---|---|---|---|---|\n",
       "| MID | 1 | 4 | 6 | 1.9 | -12.9 | 565 | 247 | 54.19948 | -125.002 | ⋯ | -124.057 | 853.3361 | 1 | -71 | -184 | 5.4 | 3.1 | -4.462839 | -0.9450471 | -92 |\n",
       "| MID | 1 | 3 | 4 | 1.9 | -12.9 | 565 | 247 | 54.19948 | -125.002 | ⋯ | -124.057 | 827.0951 | 1 | -71 | -184 | 5.4 | 3.1 | -4.462839 | -0.9450471 | -92 |\n",
       "| MID | 1 | 3 | 9 | 1.9 | -12.9 | 565 | 247 | 54.19948 | -125.002 | ⋯ | -124.057 | 804.8595 | 1 | -71 | -184 | 5.4 | 3.1 | -4.462839 | -0.9450471 | -92 |\n",
       "| MID | 1 | 4 | 9 | 1.9 | -12.9 | 565 | 247 | 54.19948 | -125.002 | ⋯ | -124.057 | 745.6832 | 1 | -71 | -184 | 5.4 | 3.1 | -4.462839 | -0.9450471 | -92 |\n",
       "| MID | 1 | 4 | 5 | 1.9 | -12.9 | 565 | 247 | 54.19948 | -125.002 | ⋯ | -124.057 | 832.1914 | 1 | -71 | -184 | 5.4 | 3.1 | -4.462839 | -0.9450471 | -92 |\n",
       "| MID | 1 | 4 | 1 | 1.9 | -12.9 | 565 | 247 | 54.19948 | -125.002 | ⋯ | -124.057 | 838.4129 | 1 | -71 | -184 | 5.4 | 3.1 | -4.462839 | -0.9450471 | -92 |\n",
       "\n"
      ],
      "text/plain": [
       "  SITE PROV BLOCK TREE S_MAT S_MCMT S_MAP S_MSP S_Latitude S_Longitude ⋯\n",
       "1 MID  1    4     6    1.9   -12.9  565   247   54.19948   -125.002    ⋯\n",
       "2 MID  1    3     4    1.9   -12.9  565   247   54.19948   -125.002    ⋯\n",
       "3 MID  1    3     9    1.9   -12.9  565   247   54.19948   -125.002    ⋯\n",
       "4 MID  1    4     9    1.9   -12.9  565   247   54.19948   -125.002    ⋯\n",
       "5 MID  1    4     5    1.9   -12.9  565   247   54.19948   -125.002    ⋯\n",
       "6 MID  1    4     1    1.9   -12.9  565   247   54.19948   -125.002    ⋯\n",
       "  P_Longitude Height   live TX_MAP TX_MSP TX_MCMT TX_MAT TX_Lat    TX_Long   \n",
       "1 -124.057    853.3361 1    -71    -184   5.4     3.1    -4.462839 -0.9450471\n",
       "2 -124.057    827.0951 1    -71    -184   5.4     3.1    -4.462839 -0.9450471\n",
       "3 -124.057    804.8595 1    -71    -184   5.4     3.1    -4.462839 -0.9450471\n",
       "4 -124.057    745.6832 1    -71    -184   5.4     3.1    -4.462839 -0.9450471\n",
       "5 -124.057    832.1914 1    -71    -184   5.4     3.1    -4.462839 -0.9450471\n",
       "6 -124.057    838.4129 1    -71    -184   5.4     3.1    -4.462839 -0.9450471\n",
       "  TX_Elev\n",
       "1 -92    \n",
       "2 -92    \n",
       "3 -92    \n",
       "4 -92    \n",
       "5 -92    \n",
       "6 -92    "
      ]
     },
     "metadata": {},
     "output_type": "display_data"
    }
   ],
   "source": [
    "library(tidyverse)\n",
    "tree_data <- read_csv(\"Sx.htdata.csv\")\n",
    " \n",
    "library(repr)\n",
    "sxData |>\n",
    "filter(PROV %in% c(34, 40, 63)) |>\n",
    "select(PROV, P_Latitude, P_Longitude, P_Elevation) |>\n",
    "unique()\n",
    "\n",
    "sxData <- tree_data |>\n",
    "mutate(\n",
    "    TX_MAP = S_MAP -P_MAP,\n",
    "    TX_MSP = S_MSP -P_MSP,\n",
    "    TX_MCMT = S_MCMT - P_MCMT,\n",
    "    TX_MAT = S_MAT - P_MAT,\n",
    "    TX_Lat = S_Latitude - P_Latitude,\n",
    "    TX_Long = S_Longitude - P_Longitude,\n",
    "    TX_Elev = S_Elevation - P_Elevation\n",
    ") \n",
    "head(sxData)"
   ]
  },
  {
   "cell_type": "code",
   "execution_count": 3,
   "id": "ebc3f67a-7a27-46c4-9f3c-228d0e0e4445",
   "metadata": {},
   "outputs": [
    {
     "data": {
      "text/plain": [
       "\n",
       "Call:\n",
       "lm(formula = Height ~ P_MCMT + I(P_MCMT^2) + S_MAP + I(S_MAP^2) + \n",
       "    I(TX_Lat^2) + TX_Long, data = sxData)\n",
       "\n",
       "Residuals:\n",
       "    Min      1Q  Median      3Q     Max \n",
       "-489.79  -79.62    1.77   82.04  465.88 \n",
       "\n",
       "Coefficients:\n",
       "              Estimate Std. Error t value Pr(>|t|)    \n",
       "(Intercept) -7.149e+03  1.452e+02  -49.23   <2e-16 ***\n",
       "P_MCMT      -3.385e+01  9.523e-01  -35.54   <2e-16 ***\n",
       "I(P_MCMT^2) -1.021e+00  4.135e-02  -24.69   <2e-16 ***\n",
       "S_MAP        2.322e+01  5.093e-01   45.60   <2e-16 ***\n",
       "I(S_MAP^2)  -1.690e-02  4.390e-04  -38.50   <2e-16 ***\n",
       "I(TX_Lat^2) -1.236e+00  4.993e-02  -24.75   <2e-16 ***\n",
       "TX_Long     -5.946e+00  4.405e-01  -13.50   <2e-16 ***\n",
       "---\n",
       "Signif. codes:  0 ‘***’ 0.001 ‘**’ 0.01 ‘*’ 0.05 ‘.’ 0.1 ‘ ’ 1\n",
       "\n",
       "Residual standard error: 128.8 on 3233 degrees of freedom\n",
       "Multiple R-squared:  0.871,\tAdjusted R-squared:  0.8708 \n",
       "F-statistic:  3638 on 6 and 3233 DF,  p-value: < 2.2e-16\n"
      ]
     },
     "metadata": {},
     "output_type": "display_data"
    }
   ],
   "source": [
    "model.1 <- lm(Height ~ \n",
    "              P_MCMT + I(P_MCMT^2) +\n",
    "              S_MAP + I(S_MAP^2) +\n",
    "              I(TX_Lat^2) +\n",
    "              TX_Long,\n",
    "              data = sxData)\n",
    "summary(model.1)"
   ]
  },
  {
   "cell_type": "code",
   "execution_count": 11,
   "id": "f0c52d2c-ed9c-429d-b1b2-bbd480321489",
   "metadata": {},
   "outputs": [
    {
     "name": "stderr",
     "output_type": "stream",
     "text": [
      "\u001b[1mRows: \u001b[22m\u001b[34m3\u001b[39m \u001b[1mColumns: \u001b[22m\u001b[34m269\u001b[39m\n",
      "\u001b[36m──\u001b[39m \u001b[1mColumn specification\u001b[22m \u001b[36m────────────────────────────────────────────────────────\u001b[39m\n",
      "\u001b[1mDelimiter:\u001b[22m \",\"\n",
      "\u001b[31mchr\u001b[39m   (1): period\n",
      "\u001b[32mdbl\u001b[39m (268): Lat, long, elev, MAT, MWMT, MCMT, TD, MAP, MSP, AHM, SHM, DD_0, D...\n",
      "\n",
      "\u001b[36mℹ\u001b[39m Use `spec()` to retrieve the full column specification for this data.\n",
      "\u001b[36mℹ\u001b[39m Specify the column types or set `show_col_types = FALSE` to quiet this message.\n"
     ]
    },
    {
     "data": {
      "text/html": [
       "<table class=\"dataframe\">\n",
       "<caption>A data.frame: 6 × 16</caption>\n",
       "<thead>\n",
       "\t<tr><th></th><th scope=col>S_MCMT</th><th scope=col>S_MAT</th><th scope=col>S_MAP</th><th scope=col>S_MSP</th><th scope=col>S_Lat</th><th scope=col>S_Long</th><th scope=col>S_Elev</th><th scope=col>period</th><th scope=col>PROV</th><th scope=col>P_MAT</th><th scope=col>P_MCMT</th><th scope=col>P_MAP</th><th scope=col>P_MSP</th><th scope=col>P_Latitude</th><th scope=col>P_Longitude</th><th scope=col>P_Elevation</th></tr>\n",
       "\t<tr><th></th><th scope=col>&lt;dbl&gt;</th><th scope=col>&lt;dbl&gt;</th><th scope=col>&lt;dbl&gt;</th><th scope=col>&lt;dbl&gt;</th><th scope=col>&lt;dbl&gt;</th><th scope=col>&lt;dbl&gt;</th><th scope=col>&lt;dbl&gt;</th><th scope=col>&lt;chr&gt;</th><th scope=col>&lt;dbl&gt;</th><th scope=col>&lt;dbl&gt;</th><th scope=col>&lt;dbl&gt;</th><th scope=col>&lt;dbl&gt;</th><th scope=col>&lt;dbl&gt;</th><th scope=col>&lt;dbl&gt;</th><th scope=col>&lt;dbl&gt;</th><th scope=col>&lt;dbl&gt;</th></tr>\n",
       "</thead>\n",
       "<tbody>\n",
       "\t<tr><th scope=row>1</th><td>-7.1</td><td>4.9</td><td>546</td><td>183</td><td>51.40283</td><td>-117.0365</td><td>945</td><td>Normal_1991_2020.nrm               </td><td>12</td><td>3.6</td><td>-10.0</td><td>682</td><td>203</td><td>51.40283</td><td>-117.0365</td><td> 945</td></tr>\n",
       "\t<tr><th scope=row>2</th><td>-7.9</td><td>6.1</td><td>619</td><td>195</td><td>51.40283</td><td>-117.0365</td><td>945</td><td>8GCMs_ensemble_ssp126_2071-2100.gcm</td><td>12</td><td>3.6</td><td>-10.0</td><td>682</td><td>203</td><td>51.40283</td><td>-117.0365</td><td> 945</td></tr>\n",
       "\t<tr><th scope=row>3</th><td>-5.5</td><td>8.9</td><td>648</td><td>188</td><td>51.40283</td><td>-117.0365</td><td>945</td><td>8GCMs_ensemble_ssp585_2071-2100.gcm</td><td>12</td><td>3.6</td><td>-10.0</td><td>682</td><td>203</td><td>51.40283</td><td>-117.0365</td><td> 945</td></tr>\n",
       "\t<tr><th scope=row>4</th><td>-7.1</td><td>4.9</td><td>546</td><td>183</td><td>51.40283</td><td>-117.0365</td><td>945</td><td>Normal_1991_2020.nrm               </td><td>40</td><td>1.6</td><td> -9.3</td><td>723</td><td>230</td><td>54.69117</td><td>-127.4027</td><td>1005</td></tr>\n",
       "\t<tr><th scope=row>5</th><td>-7.9</td><td>6.1</td><td>619</td><td>195</td><td>51.40283</td><td>-117.0365</td><td>945</td><td>8GCMs_ensemble_ssp126_2071-2100.gcm</td><td>40</td><td>1.6</td><td> -9.3</td><td>723</td><td>230</td><td>54.69117</td><td>-127.4027</td><td>1005</td></tr>\n",
       "\t<tr><th scope=row>6</th><td>-5.5</td><td>8.9</td><td>648</td><td>188</td><td>51.40283</td><td>-117.0365</td><td>945</td><td>8GCMs_ensemble_ssp585_2071-2100.gcm</td><td>40</td><td>1.6</td><td> -9.3</td><td>723</td><td>230</td><td>54.69117</td><td>-127.4027</td><td>1005</td></tr>\n",
       "</tbody>\n",
       "</table>\n"
      ],
      "text/latex": [
       "A data.frame: 6 × 16\n",
       "\\begin{tabular}{r|llllllllllllllll}\n",
       "  & S\\_MCMT & S\\_MAT & S\\_MAP & S\\_MSP & S\\_Lat & S\\_Long & S\\_Elev & period & PROV & P\\_MAT & P\\_MCMT & P\\_MAP & P\\_MSP & P\\_Latitude & P\\_Longitude & P\\_Elevation\\\\\n",
       "  & <dbl> & <dbl> & <dbl> & <dbl> & <dbl> & <dbl> & <dbl> & <chr> & <dbl> & <dbl> & <dbl> & <dbl> & <dbl> & <dbl> & <dbl> & <dbl>\\\\\n",
       "\\hline\n",
       "\t1 & -7.1 & 4.9 & 546 & 183 & 51.40283 & -117.0365 & 945 & Normal\\_1991\\_2020.nrm                & 12 & 3.6 & -10.0 & 682 & 203 & 51.40283 & -117.0365 &  945\\\\\n",
       "\t2 & -7.9 & 6.1 & 619 & 195 & 51.40283 & -117.0365 & 945 & 8GCMs\\_ensemble\\_ssp126\\_2071-2100.gcm & 12 & 3.6 & -10.0 & 682 & 203 & 51.40283 & -117.0365 &  945\\\\\n",
       "\t3 & -5.5 & 8.9 & 648 & 188 & 51.40283 & -117.0365 & 945 & 8GCMs\\_ensemble\\_ssp585\\_2071-2100.gcm & 12 & 3.6 & -10.0 & 682 & 203 & 51.40283 & -117.0365 &  945\\\\\n",
       "\t4 & -7.1 & 4.9 & 546 & 183 & 51.40283 & -117.0365 & 945 & Normal\\_1991\\_2020.nrm                & 40 & 1.6 &  -9.3 & 723 & 230 & 54.69117 & -127.4027 & 1005\\\\\n",
       "\t5 & -7.9 & 6.1 & 619 & 195 & 51.40283 & -117.0365 & 945 & 8GCMs\\_ensemble\\_ssp126\\_2071-2100.gcm & 40 & 1.6 &  -9.3 & 723 & 230 & 54.69117 & -127.4027 & 1005\\\\\n",
       "\t6 & -5.5 & 8.9 & 648 & 188 & 51.40283 & -117.0365 & 945 & 8GCMs\\_ensemble\\_ssp585\\_2071-2100.gcm & 40 & 1.6 &  -9.3 & 723 & 230 & 54.69117 & -127.4027 & 1005\\\\\n",
       "\\end{tabular}\n"
      ],
      "text/markdown": [
       "\n",
       "A data.frame: 6 × 16\n",
       "\n",
       "| <!--/--> | S_MCMT &lt;dbl&gt; | S_MAT &lt;dbl&gt; | S_MAP &lt;dbl&gt; | S_MSP &lt;dbl&gt; | S_Lat &lt;dbl&gt; | S_Long &lt;dbl&gt; | S_Elev &lt;dbl&gt; | period &lt;chr&gt; | PROV &lt;dbl&gt; | P_MAT &lt;dbl&gt; | P_MCMT &lt;dbl&gt; | P_MAP &lt;dbl&gt; | P_MSP &lt;dbl&gt; | P_Latitude &lt;dbl&gt; | P_Longitude &lt;dbl&gt; | P_Elevation &lt;dbl&gt; |\n",
       "|---|---|---|---|---|---|---|---|---|---|---|---|---|---|---|---|---|\n",
       "| 1 | -7.1 | 4.9 | 546 | 183 | 51.40283 | -117.0365 | 945 | Normal_1991_2020.nrm                | 12 | 3.6 | -10.0 | 682 | 203 | 51.40283 | -117.0365 |  945 |\n",
       "| 2 | -7.9 | 6.1 | 619 | 195 | 51.40283 | -117.0365 | 945 | 8GCMs_ensemble_ssp126_2071-2100.gcm | 12 | 3.6 | -10.0 | 682 | 203 | 51.40283 | -117.0365 |  945 |\n",
       "| 3 | -5.5 | 8.9 | 648 | 188 | 51.40283 | -117.0365 | 945 | 8GCMs_ensemble_ssp585_2071-2100.gcm | 12 | 3.6 | -10.0 | 682 | 203 | 51.40283 | -117.0365 |  945 |\n",
       "| 4 | -7.1 | 4.9 | 546 | 183 | 51.40283 | -117.0365 | 945 | Normal_1991_2020.nrm                | 40 | 1.6 |  -9.3 | 723 | 230 | 54.69117 | -127.4027 | 1005 |\n",
       "| 5 | -7.9 | 6.1 | 619 | 195 | 51.40283 | -117.0365 | 945 | 8GCMs_ensemble_ssp126_2071-2100.gcm | 40 | 1.6 |  -9.3 | 723 | 230 | 54.69117 | -127.4027 | 1005 |\n",
       "| 6 | -5.5 | 8.9 | 648 | 188 | 51.40283 | -117.0365 | 945 | 8GCMs_ensemble_ssp585_2071-2100.gcm | 40 | 1.6 |  -9.3 | 723 | 230 | 54.69117 | -127.4027 | 1005 |\n",
       "\n"
      ],
      "text/plain": [
       "  S_MCMT S_MAT S_MAP S_MSP S_Lat    S_Long    S_Elev\n",
       "1 -7.1   4.9   546   183   51.40283 -117.0365 945   \n",
       "2 -7.9   6.1   619   195   51.40283 -117.0365 945   \n",
       "3 -5.5   8.9   648   188   51.40283 -117.0365 945   \n",
       "4 -7.1   4.9   546   183   51.40283 -117.0365 945   \n",
       "5 -7.9   6.1   619   195   51.40283 -117.0365 945   \n",
       "6 -5.5   8.9   648   188   51.40283 -117.0365 945   \n",
       "  period                              PROV P_MAT P_MCMT P_MAP P_MSP P_Latitude\n",
       "1 Normal_1991_2020.nrm                12   3.6   -10.0  682   203   51.40283  \n",
       "2 8GCMs_ensemble_ssp126_2071-2100.gcm 12   3.6   -10.0  682   203   51.40283  \n",
       "3 8GCMs_ensemble_ssp585_2071-2100.gcm 12   3.6   -10.0  682   203   51.40283  \n",
       "4 Normal_1991_2020.nrm                40   1.6    -9.3  723   230   54.69117  \n",
       "5 8GCMs_ensemble_ssp126_2071-2100.gcm 40   1.6    -9.3  723   230   54.69117  \n",
       "6 8GCMs_ensemble_ssp585_2071-2100.gcm 40   1.6    -9.3  723   230   54.69117  \n",
       "  P_Longitude P_Elevation\n",
       "1 -117.0365    945       \n",
       "2 -117.0365    945       \n",
       "3 -117.0365    945       \n",
       "4 -127.4027   1005       \n",
       "5 -127.4027   1005       \n",
       "6 -127.4027   1005       "
      ]
     },
     "metadata": {},
     "output_type": "display_data"
    },
    {
     "data": {
      "text/html": [
       "<table class=\"dataframe\">\n",
       "<caption>A tibble: 12 × 3</caption>\n",
       "<thead>\n",
       "\t<tr><th scope=col>PROV</th><th scope=col>Climate</th><th scope=col>height</th></tr>\n",
       "\t<tr><th scope=col>&lt;dbl&gt;</th><th scope=col>&lt;fct&gt;</th><th scope=col>&lt;dbl&gt;</th></tr>\n",
       "</thead>\n",
       "<tbody>\n",
       "\t<tr><td>12</td><td>0 </td><td> 729.5963</td></tr>\n",
       "\t<tr><td>12</td><td>10</td><td> 987.7169</td></tr>\n",
       "\t<tr><td>12</td><td>20</td><td>1040.2671</td></tr>\n",
       "\t<tr><td>40</td><td>0 </td><td> 644.6934</td></tr>\n",
       "\t<tr><td>40</td><td>10</td><td> 902.8140</td></tr>\n",
       "\t<tr><td>40</td><td>20</td><td> 955.3642</td></tr>\n",
       "\t<tr><td>34</td><td>0 </td><td> 622.5986</td></tr>\n",
       "\t<tr><td>34</td><td>10</td><td> 880.7192</td></tr>\n",
       "\t<tr><td>34</td><td>20</td><td> 933.2694</td></tr>\n",
       "\t<tr><td>63</td><td>0 </td><td> 726.4548</td></tr>\n",
       "\t<tr><td>63</td><td>10</td><td> 984.5754</td></tr>\n",
       "\t<tr><td>63</td><td>20</td><td>1037.1256</td></tr>\n",
       "</tbody>\n",
       "</table>\n"
      ],
      "text/latex": [
       "A tibble: 12 × 3\n",
       "\\begin{tabular}{lll}\n",
       " PROV & Climate & height\\\\\n",
       " <dbl> & <fct> & <dbl>\\\\\n",
       "\\hline\n",
       "\t 12 & 0  &  729.5963\\\\\n",
       "\t 12 & 10 &  987.7169\\\\\n",
       "\t 12 & 20 & 1040.2671\\\\\n",
       "\t 40 & 0  &  644.6934\\\\\n",
       "\t 40 & 10 &  902.8140\\\\\n",
       "\t 40 & 20 &  955.3642\\\\\n",
       "\t 34 & 0  &  622.5986\\\\\n",
       "\t 34 & 10 &  880.7192\\\\\n",
       "\t 34 & 20 &  933.2694\\\\\n",
       "\t 63 & 0  &  726.4548\\\\\n",
       "\t 63 & 10 &  984.5754\\\\\n",
       "\t 63 & 20 & 1037.1256\\\\\n",
       "\\end{tabular}\n"
      ],
      "text/markdown": [
       "\n",
       "A tibble: 12 × 3\n",
       "\n",
       "| PROV &lt;dbl&gt; | Climate &lt;fct&gt; | height &lt;dbl&gt; |\n",
       "|---|---|---|\n",
       "| 12 | 0  |  729.5963 |\n",
       "| 12 | 10 |  987.7169 |\n",
       "| 12 | 20 | 1040.2671 |\n",
       "| 40 | 0  |  644.6934 |\n",
       "| 40 | 10 |  902.8140 |\n",
       "| 40 | 20 |  955.3642 |\n",
       "| 34 | 0  |  622.5986 |\n",
       "| 34 | 10 |  880.7192 |\n",
       "| 34 | 20 |  933.2694 |\n",
       "| 63 | 0  |  726.4548 |\n",
       "| 63 | 10 |  984.5754 |\n",
       "| 63 | 20 | 1037.1256 |\n",
       "\n"
      ],
      "text/plain": [
       "   PROV Climate height   \n",
       "1  12   0        729.5963\n",
       "2  12   10       987.7169\n",
       "3  12   20      1040.2671\n",
       "4  40   0        644.6934\n",
       "5  40   10       902.8140\n",
       "6  40   20       955.3642\n",
       "7  34   0        622.5986\n",
       "8  34   10       880.7192\n",
       "9  34   20       933.2694\n",
       "10 63   0        726.4548\n",
       "11 63   10       984.5754\n",
       "12 63   20      1037.1256"
      ]
     },
     "metadata": {},
     "output_type": "display_data"
    }
   ],
   "source": [
    "# select point 12 34 40\n",
    "\n",
    "fcData <- read_csv(\"CD-12.csv\") |> # the climate BC data\n",
    "transmute(S_MCMT = MCMT, # changing the variable names into C_...\n",
    "         S_MAT = MAT,\n",
    "         S_MAP = MAP,\n",
    "         S_MSP = MSP,\n",
    "         S_Lat = Lat,\n",
    "         S_Long = long,\n",
    "         S_Elev = elev,\n",
    "         period = period) \n",
    "\n",
    "#nearest to m: 40,  s: 63, n: 34 (PROV)\n",
    "sxData2 <- subset(sxData, PROV %in% c(12, 34, 40, 63))\n",
    "sxData2 <- unique(subset(sxData2, select = c(PROV, P_MAT, P_MCMT, P_MAP, P_MSP, P_Latitude, P_Longitude, P_Elevation)))\n",
    "# now sxData2 only contains the PROV, P_MAT, P_MCMT, P_MAP, P_MSP, P_Latitude, P_Longitude, P_Elevation columns\n",
    "# with the values of those in PROV 12, 34, 4O, 63\n",
    "\n",
    "fcdat2 <- merge(fcData, sxData2)\n",
    "# merge the climate data with the provenance data\n",
    "\n",
    "head(fcdat2) # you can see now it has S_... and P_... datas\n",
    "\n",
    "# then we add the TX values into the fcdat2\n",
    "fcdat2 <- fcdat2|>\n",
    "mutate(\n",
    "    TX_MAP = S_MAP -P_MAP,\n",
    "    TX_MSP = S_MSP -P_MSP,\n",
    "    TX_MCMT = S_MCMT - P_MCMT,\n",
    "    TX_MAT = S_MAT - P_MAT,\n",
    "    TX_Lat = S_Lat - P_Latitude,\n",
    "    TX_Long = S_Long- P_Longitude,\n",
    "    TX_Elev = S_Elev - P_Elevation)|>\n",
    "# if you edit the excel than you don't need this step\n",
    "mutate(Climate = factor(period, # I mutate the period column into CLimate column so that it's easier to make a graph\n",
    "                        levels = c(\"Normal_1991_2020.nrm\", \"8GCMs_ensemble_ssp126_2071-2100.gcm\", \"8GCMs_ensemble_ssp585_2071-2100.gcm\"), \n",
    "                        # the orginal variable names\n",
    "                        labels = c(0, 10, 20))) |> # the new varaible names\n",
    "select(-period) # delete the original one\n",
    "\n",
    "pred_height <- predict(model.1, fcdat2)\n",
    "pred_table <- tibble (fcdat2$PROV, fcdat2$Climate, pred_height) |> # combone the column PROV, Climate in fcdat2, and predicted height(pred_height)\n",
    "transmute(PROV = fcdat2$PROV, \n",
    "          Climate = fcdat2$Climate, \n",
    "          height = pred_height) # change their name so that it's more clear\n",
    "\n",
    "pred_table"
   ]
  },
  {
   "cell_type": "code",
   "execution_count": 17,
   "id": "1a329ee3-a1b3-42ca-ad00-dfefba4f1fe7",
   "metadata": {},
   "outputs": [
    {
     "data": {
      "text/html": [
       "<table class=\"dataframe\">\n",
       "<caption>A tibble: 12 × 3</caption>\n",
       "<thead>\n",
       "\t<tr><th scope=col>PROV</th><th scope=col>Climate</th><th scope=col>height</th></tr>\n",
       "\t<tr><th scope=col>&lt;dbl&gt;</th><th scope=col>&lt;dbl&gt;</th><th scope=col>&lt;dbl&gt;</th></tr>\n",
       "</thead>\n",
       "<tbody>\n",
       "\t<tr><td>12</td><td>1</td><td> 729.5963</td></tr>\n",
       "\t<tr><td>12</td><td>2</td><td> 987.7169</td></tr>\n",
       "\t<tr><td>12</td><td>3</td><td>1040.2671</td></tr>\n",
       "\t<tr><td>40</td><td>1</td><td> 644.6934</td></tr>\n",
       "\t<tr><td>40</td><td>2</td><td> 902.8140</td></tr>\n",
       "\t<tr><td>40</td><td>3</td><td> 955.3642</td></tr>\n",
       "\t<tr><td>34</td><td>1</td><td> 622.5986</td></tr>\n",
       "\t<tr><td>34</td><td>2</td><td> 880.7192</td></tr>\n",
       "\t<tr><td>34</td><td>3</td><td> 933.2694</td></tr>\n",
       "\t<tr><td>63</td><td>1</td><td> 726.4548</td></tr>\n",
       "\t<tr><td>63</td><td>2</td><td> 984.5754</td></tr>\n",
       "\t<tr><td>63</td><td>3</td><td>1037.1256</td></tr>\n",
       "</tbody>\n",
       "</table>\n"
      ],
      "text/latex": [
       "A tibble: 12 × 3\n",
       "\\begin{tabular}{lll}\n",
       " PROV & Climate & height\\\\\n",
       " <dbl> & <dbl> & <dbl>\\\\\n",
       "\\hline\n",
       "\t 12 & 1 &  729.5963\\\\\n",
       "\t 12 & 2 &  987.7169\\\\\n",
       "\t 12 & 3 & 1040.2671\\\\\n",
       "\t 40 & 1 &  644.6934\\\\\n",
       "\t 40 & 2 &  902.8140\\\\\n",
       "\t 40 & 3 &  955.3642\\\\\n",
       "\t 34 & 1 &  622.5986\\\\\n",
       "\t 34 & 2 &  880.7192\\\\\n",
       "\t 34 & 3 &  933.2694\\\\\n",
       "\t 63 & 1 &  726.4548\\\\\n",
       "\t 63 & 2 &  984.5754\\\\\n",
       "\t 63 & 3 & 1037.1256\\\\\n",
       "\\end{tabular}\n"
      ],
      "text/markdown": [
       "\n",
       "A tibble: 12 × 3\n",
       "\n",
       "| PROV &lt;dbl&gt; | Climate &lt;dbl&gt; | height &lt;dbl&gt; |\n",
       "|---|---|---|\n",
       "| 12 | 1 |  729.5963 |\n",
       "| 12 | 2 |  987.7169 |\n",
       "| 12 | 3 | 1040.2671 |\n",
       "| 40 | 1 |  644.6934 |\n",
       "| 40 | 2 |  902.8140 |\n",
       "| 40 | 3 |  955.3642 |\n",
       "| 34 | 1 |  622.5986 |\n",
       "| 34 | 2 |  880.7192 |\n",
       "| 34 | 3 |  933.2694 |\n",
       "| 63 | 1 |  726.4548 |\n",
       "| 63 | 2 |  984.5754 |\n",
       "| 63 | 3 | 1037.1256 |\n",
       "\n"
      ],
      "text/plain": [
       "   PROV Climate height   \n",
       "1  12   1        729.5963\n",
       "2  12   2        987.7169\n",
       "3  12   3       1040.2671\n",
       "4  40   1        644.6934\n",
       "5  40   2        902.8140\n",
       "6  40   3        955.3642\n",
       "7  34   1        622.5986\n",
       "8  34   2        880.7192\n",
       "9  34   3        933.2694\n",
       "10 63   1        726.4548\n",
       "11 63   2        984.5754\n",
       "12 63   3       1037.1256"
      ]
     },
     "metadata": {},
     "output_type": "display_data"
    },
    {
     "data": {
      "image/png": "[encoded data removed]",
      "text/plain": [
       "plot without title"
      ]
     },
     "metadata": {
      "image/png": {
       "height": 420,
       "width": 420
      }
     },
     "output_type": "display_data"
    }
   ],
   "source": [
    "pred_table$Climate <- as.numeric(pred_table$Climate) # if you edit excel you also don't need this\n",
    "pred_table\n",
    "\n",
    "pred_table|>\n",
    "ggplot(aes(x=Climate, y=height, color=as_factor(PROV)))+\n",
    "geom_line() "
   ]
  }
 ],
 "metadata": {
  "kernelspec": {
   "display_name": "R",
   "language": "R",
   "name": "ir"
  },
  "language_info": {
   "codemirror_mode": "r",
   "file_extension": ".r",
   "mimetype": "text/x-r-source",
   "name": "R",
   "pygments_lexer": "r",
   "version": "4.1.3"
  }
 },
 "nbformat": 4,
 "nbformat_minor": 5
}
